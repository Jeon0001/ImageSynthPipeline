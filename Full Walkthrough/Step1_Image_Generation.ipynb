{
 "cells": [
  {
   "cell_type": "markdown",
   "metadata": {},
   "source": [
    "### Step 0. Collect sample images (optional: bing web scraper)"
   ]
  },
  {
   "cell_type": "markdown",
   "metadata": {},
   "source": [
    "1. First Pip Install Bing Image Scraper\n",
    "```pip install git+https://github.com/ostrolucky/Bulk-Bing-Image-downloader```\n",
    "\n",
    "2. Then write in terminal\n",
    "```bbid \"Insert Search Query\" -o \"Insert Output Directory\" --limit number_to_scrape```\n",
    "\n",
    "3. (or if this does not work)\n",
    "```bbid.py \"Insert Search Query\" -o \"Insert Output Directory\" --limit number_to_scrape```\n",
    "\n",
    "e.g.\n",
    "```bbid.py \"People eating Korean Food\" -o \"D:/images/Korean_Food/original_images/\" --limit 50```\n",
    "\n",
    "##### Refer to README.md for how to organize image directory + Adjust/Filter images as required"
   ]
  },
  {
   "cell_type": "markdown",
   "metadata": {},
   "source": [
    "### Step 1. Create masks for collected images"
   ]
  },
  {
   "cell_type": "markdown",
   "metadata": {},
   "source": [
    "### Step 3. Synthesize images to create dataset (Current races: Black, Indian, White, Asian)\n",
    "- Note inpainting model requires API credits from: https://platform.stability.ai/account/credits "
   ]
  }
 ],
 "metadata": {
  "language_info": {
   "name": "python"
  }
 },
 "nbformat": 4,
 "nbformat_minor": 2
}
