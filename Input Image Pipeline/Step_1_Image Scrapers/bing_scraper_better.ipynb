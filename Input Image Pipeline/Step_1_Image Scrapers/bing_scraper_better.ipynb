{
 "cells": [
  {
   "cell_type": "markdown",
   "metadata": {},
   "source": [
    "# How to use Image Scraper"
   ]
  },
  {
   "cell_type": "markdown",
   "metadata": {},
   "source": [
    "### First Pip Install\n",
    "\n",
    "```pip install git+https://github.com/ostrolucky/Bulk-Bing-Image-downloader```"
   ]
  },
  {
   "cell_type": "markdown",
   "metadata": {},
   "source": [
    "Then, in Terminal:"
   ]
  },
  {
   "cell_type": "markdown",
   "metadata": {},
   "source": [
    "bbid \"Insert Search Query\" -o \"Insert Output Directory\" --limit number_to_scrape"
   ]
  },
  {
   "cell_type": "markdown",
   "metadata": {},
   "source": [
    "Example: ```bbid \"Korean People Eating Korean Food\" -o \"D:/Data Downloads/Bing Image Scraped Results/KoreanEaters\" --limit 100```"
   ]
  },
  {
   "cell_type": "markdown",
   "metadata": {},
   "source": []
  }
 ],
 "metadata": {
  "language_info": {
   "name": "python"
  }
 },
 "nbformat": 4,
 "nbformat_minor": 2
}
