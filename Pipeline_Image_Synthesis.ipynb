{
 "cells": [
  {
   "cell_type": "markdown",
   "metadata": {},
   "source": [
    "## 0. Import Packages\n",
    "Note Use Correct Kernel"
   ]
  },
  {
   "cell_type": "code",
   "execution_count": 3,
   "metadata": {},
   "outputs": [
    {
     "name": "stdout",
     "output_type": "stream",
     "text": [
      "Requirement already satisfied: diffusers in /home/yethu/miniconda3/envs/ai-dev/lib/python3.12/site-packages (0.30.3)\n",
      "Requirement already satisfied: importlib-metadata in /home/yethu/miniconda3/envs/ai-dev/lib/python3.12/site-packages (from diffusers) (8.5.0)\n",
      "Requirement already satisfied: filelock in /home/yethu/miniconda3/envs/ai-dev/lib/python3.12/site-packages (from diffusers) (3.16.1)\n",
      "Requirement already satisfied: huggingface-hub>=0.23.2 in /home/yethu/miniconda3/envs/ai-dev/lib/python3.12/site-packages (from diffusers) (0.25.0)\n",
      "Requirement already satisfied: numpy in /home/yethu/miniconda3/envs/ai-dev/lib/python3.12/site-packages (from diffusers) (2.1.1)\n",
      "Requirement already satisfied: regex!=2019.12.17 in /home/yethu/miniconda3/envs/ai-dev/lib/python3.12/site-packages (from diffusers) (2024.9.11)\n",
      "Requirement already satisfied: requests in /home/yethu/miniconda3/envs/ai-dev/lib/python3.12/site-packages (from diffusers) (2.32.3)\n",
      "Requirement already satisfied: safetensors>=0.3.1 in /home/yethu/miniconda3/envs/ai-dev/lib/python3.12/site-packages (from diffusers) (0.4.5)\n",
      "Requirement already satisfied: Pillow in /home/yethu/miniconda3/envs/ai-dev/lib/python3.12/site-packages (from diffusers) (10.4.0)\n",
      "Requirement already satisfied: fsspec>=2023.5.0 in /home/yethu/miniconda3/envs/ai-dev/lib/python3.12/site-packages (from huggingface-hub>=0.23.2->diffusers) (2024.9.0)\n",
      "Requirement already satisfied: packaging>=20.9 in /home/yethu/miniconda3/envs/ai-dev/lib/python3.12/site-packages (from huggingface-hub>=0.23.2->diffusers) (24.1)\n",
      "Requirement already satisfied: pyyaml>=5.1 in /home/yethu/miniconda3/envs/ai-dev/lib/python3.12/site-packages (from huggingface-hub>=0.23.2->diffusers) (6.0.2)\n",
      "Requirement already satisfied: tqdm>=4.42.1 in /home/yethu/miniconda3/envs/ai-dev/lib/python3.12/site-packages (from huggingface-hub>=0.23.2->diffusers) (4.66.5)\n",
      "Requirement already satisfied: typing-extensions>=3.7.4.3 in /home/yethu/miniconda3/envs/ai-dev/lib/python3.12/site-packages (from huggingface-hub>=0.23.2->diffusers) (4.12.2)\n",
      "Requirement already satisfied: zipp>=3.20 in /home/yethu/miniconda3/envs/ai-dev/lib/python3.12/site-packages (from importlib-metadata->diffusers) (3.20.2)\n",
      "Requirement already satisfied: charset-normalizer<4,>=2 in /home/yethu/miniconda3/envs/ai-dev/lib/python3.12/site-packages (from requests->diffusers) (3.3.2)\n",
      "Requirement already satisfied: idna<4,>=2.5 in /home/yethu/miniconda3/envs/ai-dev/lib/python3.12/site-packages (from requests->diffusers) (3.10)\n",
      "Requirement already satisfied: urllib3<3,>=1.21.1 in /home/yethu/miniconda3/envs/ai-dev/lib/python3.12/site-packages (from requests->diffusers) (2.2.3)\n",
      "Requirement already satisfied: certifi>=2017.4.17 in /home/yethu/miniconda3/envs/ai-dev/lib/python3.12/site-packages (from requests->diffusers) (2024.8.30)\n"
     ]
    }
   ],
   "source": [
    "!pip install diffusers"
   ]
  },
  {
   "cell_type": "code",
   "execution_count": 4,
   "metadata": {},
   "outputs": [],
   "source": [
    "import os\n",
    "from PIL import Image\n",
    "import torch\n",
    "from diffusers import StableDiffusionInpaintPipeline"
   ]
  },
  {
   "cell_type": "markdown",
   "metadata": {},
   "source": [
    "## 1. Folder Designations"
   ]
  },
  {
   "cell_type": "code",
   "execution_count": 5,
   "metadata": {},
   "outputs": [],
   "source": [
    "# Folder Setup\n",
    "parent_folder = \"images\"\n",
    "input_folder = os.path.join(parent_folder, \"input_images\")\n",
    "mask_folder = os.path.join(parent_folder, \"mask_images\")\n",
    "output_folder = os.path.join(parent_folder, \"output_images\")"
   ]
  },
  {
   "cell_type": "code",
   "execution_count": 6,
   "metadata": {},
   "outputs": [],
   "source": [
    "using_colab = True\n",
    "\n",
    "if using_colab:\n",
    "    if not os.path.isdir(parent_folder):\n",
    "        !mkdir -p $parent_folder\n",
    "    !unzip -d $parent_folder input_images.zip \n",
    "    !unzip -d $parent_folder mask_images.zip"
   ]
  },
  {
   "cell_type": "markdown",
   "metadata": {},
   "source": [
    "## 2. Mask Image Folder Generation\n",
    "##### Note: White = Area to Inpaint\n",
    "- Input images should be 3-channel images with resolution 512x512\n",
    "- Save masks to \"mask_folder\" with names corresponding to the input images + \"_mask\"\n",
    "- Masks should be 1-channel images with the same size as the input images (greyscale, resolution 512x512)"
   ]
  },
  {
   "cell_type": "markdown",
   "metadata": {},
   "source": [
    "## 3. Creation of Synthesized Images\n",
    "##### Suggesting: Creation of autoprompter, perhaps another model(?)"
   ]
  },
  {
   "cell_type": "code",
   "execution_count": null,
   "metadata": {},
   "outputs": [],
   "source": [
    "# Load the model\n",
    "pipe = StableDiffusionInpaintPipeline.from_pretrained(\n",
    "    \"stabilityai/stable-diffusion-2-inpainting\",\n",
    "    torch_dtype = torch.float16,\n",
    ")\n",
    "pipe.to(\"cuda\")\n",
    "\n",
    "#########\n",
    "# Set Prompt Here\n",
    "prompt = \"(e.g.) Traditional fisherman fishing on a large lake.\"\n",
    "#########\n",
    "\n",
    "# Create the output folder if it doesn't exist\n",
    "os.makedirs(output_folder, exist_ok=True)\n",
    "\n",
    "# Iterate through the images in the input folder\n",
    "for image_filename in sorted(os.listdir(input_folder)):\n",
    "    if image_filename.lower().endswith(('.png', '.jpg', '.jpeg')):\n",
    "        # Construct full file paths\n",
    "        image_path = os.path.join(input_folder, image_filename)\n",
    "        mask_filename = os.path.splitext(image_filename)[0] + \"_mask.png\"\n",
    "        mask_path = os.path.join(mask_folder, mask_filename)\n",
    "        \n",
    "        # Check if the corresponding mask exists\n",
    "        if os.path.exists(mask_path):\n",
    "            # Open the images\n",
    "            image = Image.open(image_path).convert(\"RGB\")\n",
    "            mask_image = Image.open(mask_path).convert(\"L\")\n",
    "\n",
    "            # Ensure the mask size matches the image size\n",
    "            if image.size != mask_image.size:\n",
    "                print(f\"Resizing mask for {image_filename} to match the image size.\")\n",
    "                mask_image = mask_image.resize(image.size)\n",
    "\n",
    "            # Perform inpainting\n",
    "            inpainted_image = pipe(prompt=prompt, image=image, mask_image=mask_image).images[0]\n",
    "\n",
    "            # Save the inpainted image\n",
    "            output_filename = os.path.splitext(image_filename)[0] + \"_inpainted.png\"\n",
    "            output_path = os.path.join(output_folder, output_filename)\n",
    "            inpainted_image.save(output_path)\n",
    "            print(f\"Saved inpainted image to {output_path}\")\n",
    "        else:\n",
    "            print(f\"Mask for {image_filename} not found. Skipping.\")\n"
   ]
  }
 ],
 "metadata": {
  "kernelspec": {
   "display_name": "stability-inpaint",
   "language": "python",
   "name": "python3"
  },
  "language_info": {
   "codemirror_mode": {
    "name": "ipython",
    "version": 3
   },
   "file_extension": ".py",
   "mimetype": "text/x-python",
   "name": "python",
   "nbconvert_exporter": "python",
   "pygments_lexer": "ipython3",
   "version": "3.12.5"
  }
 },
 "nbformat": 4,
 "nbformat_minor": 2
}
