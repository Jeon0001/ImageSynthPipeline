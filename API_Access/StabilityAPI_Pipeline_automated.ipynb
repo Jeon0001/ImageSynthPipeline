{
 "cells": [
  {
   "cell_type": "markdown",
   "metadata": {},
   "source": [
    "# Pipeline for locally accessing Inpainting API by stability AI."
   ]
  },
  {
   "cell_type": "markdown",
   "metadata": {},
   "source": [
    "## 0. Install Required Libraries"
   ]
  },
  {
   "cell_type": "markdown",
   "metadata": {},
   "source": [
    "pip install pillow requests ipython"
   ]
  },
  {
   "cell_type": "markdown",
   "metadata": {},
   "source": [
    "## 1. Import Required Libraries"
   ]
  },
  {
   "cell_type": "code",
   "execution_count": 1,
   "metadata": {},
   "outputs": [],
   "source": [
    "from io import BytesIO\n",
    "import json\n",
    "import os\n",
    "from PIL import Image\n",
    "import requests\n",
    "import time\n",
    "from IPython.display import display"
   ]
  },
  {
   "cell_type": "markdown",
   "metadata": {},
   "source": [
    "## 2. Connect to stability API"
   ]
  },
  {
   "cell_type": "code",
   "execution_count": 2,
   "metadata": {},
   "outputs": [],
   "source": [
    "import getpass\n",
    "# To get your API key, message me on slack to receive it...\n",
    "STABILITY_KEY = getpass.getpass('Enter your API Key: ')\n"
   ]
  },
  {
   "cell_type": "markdown",
   "metadata": {},
   "source": [
    "## 3. Define Helper Functions"
   ]
  },
  {
   "cell_type": "code",
   "execution_count": 4,
   "metadata": {},
   "outputs": [],
   "source": [
    "def send_generation_request(host, params):\n",
    "    headers = {\n",
    "        \"Accept\": \"image/*\",\n",
    "        \"Authorization\": f\"Bearer {STABILITY_KEY}\"\n",
    "    }\n",
    "\n",
    "    # Encode parameters\n",
    "    files = {}\n",
    "    image = params.pop(\"image\", None)\n",
    "    mask = params.pop(\"mask\", None)\n",
    "    if image:\n",
    "        files[\"image\"] = open(image, 'rb')\n",
    "    if mask:\n",
    "        files[\"mask\"] = open(mask, 'rb')\n",
    "    if not files:\n",
    "        files[\"none\"] = ''\n",
    "\n",
    "    # Send request\n",
    "    print(f\"Sending REST request to {host}...\")\n",
    "    response = requests.post(\n",
    "        host,\n",
    "        headers=headers,\n",
    "        files=files,\n",
    "        data=params\n",
    "    )\n",
    "    if not response.ok:\n",
    "        raise Exception(f\"HTTP {response.status_code}: {response.text}\")\n",
    "\n",
    "    return response\n",
    "\n",
    "def send_async_generation_request(host, params):\n",
    "    headers = {\n",
    "        \"Accept\": \"application/json\",\n",
    "        \"Authorization\": f\"Bearer {STABILITY_KEY}\"\n",
    "    }\n",
    "\n",
    "    # Encode parameters\n",
    "    files = {}\n",
    "    if \"image\" in params:\n",
    "        image = params.pop(\"image\")\n",
    "        files = {\"image\": open(image, 'rb')}\n",
    "\n",
    "    # Send request\n",
    "    print(f\"Sending REST request to {host}...\")\n",
    "    response = requests.post(\n",
    "        host,\n",
    "        headers=headers,\n",
    "        files=files,\n",
    "        data=params\n",
    "    )\n",
    "    if not response.ok:\n",
    "        raise Exception(f\"HTTP {response.status_code}: {response.text}\")\n",
    "\n",
    "    # Process async response\n",
    "    response_dict = response.json()\n",
    "    generation_id = response_dict.get(\"id\")\n",
    "    if not generation_id:\n",
    "        raise Exception(\"Expected 'id' in response\")\n",
    "\n",
    "    # Loop until result or timeout\n",
    "    timeout = int(os.getenv(\"WORKER_TIMEOUT\", 500))\n",
    "    start = time.time()\n",
    "    status_code = 202\n",
    "    while status_code == 202:\n",
    "        response = requests.get(\n",
    "            f\"{host}/result/{generation_id}\",\n",
    "            headers={\n",
    "                **headers,\n",
    "                \"Accept\": \"image/*\"\n",
    "            },\n",
    "        )\n",
    "\n",
    "        if not response.ok:\n",
    "            raise Exception(f\"HTTP {response.status_code}: {response.text}\")\n",
    "        status_code = response.status_code\n",
    "        time.sleep(10)\n",
    "        if time.time() - start > timeout:\n",
    "            raise Exception(f\"Timeout after {timeout} seconds\")\n",
    "\n",
    "    return response\n"
   ]
  },
  {
   "cell_type": "markdown",
   "metadata": {},
   "source": [
    "## 4. Specify Paths and Prompts"
   ]
  },
  {
   "cell_type": "code",
   "execution_count": 5,
   "metadata": {},
   "outputs": [],
   "source": [
    "input_folder = \"D:\\Data Downloads\\Bing Image Scraped Results\\Korean_Clothes\"\n",
    "mask_folder = \"D:\\Data Downloads\\Bing Image Scraped Results\\Korean_Clothes_Mask\"\n",
    "output_folder = \"D:\\Data Downloads\\Bing Image Scraped Results\\Korean_Clothes_Synthesized\\White\"\n",
    "prompt = \"White Person Wearing the Clothes\"\n",
    "negative_prompt = \"\"\n",
    "seed = 0\n",
    "output_format = \"png\""
   ]
  },
  {
   "cell_type": "markdown",
   "metadata": {},
   "source": [
    "## 5. Perform Inpainting"
   ]
  },
  {
   "cell_type": "code",
   "execution_count": null,
   "metadata": {},
   "outputs": [
    {
     "name": "stdout",
     "output_type": "stream",
     "text": [
      "Sending REST request to https://api.stability.ai/v2beta/stable-image/edit/inpaint...\n",
      "Saved image to D:\\Data Downloads\\Bing Image Scraped Results\\Korean_Clothes_Synthesized\\White\\edited_01008_725168278.png\n",
      "Sending REST request to https://api.stability.ai/v2beta/stable-image/edit/inpaint...\n"
     ]
    }
   ],
   "source": [
    "import os\n",
    "from PIL import Image\n",
    "\n",
    "def process_images(input_folder, mask_folder, output_folder, prompt, negative_prompt=\"\", seed=0, output_format=\"png\"):\n",
    "    # Maximum allowed dimensions\n",
    "    MAX_PIXELS = 9437184  # 3072 x 3072 pixels\n",
    "    \n",
    "    # Ensure output folder exists\n",
    "    os.makedirs(output_folder, exist_ok=True)\n",
    "    \n",
    "    # Iterate through all files in the input folder\n",
    "    for image_file in os.listdir(input_folder):\n",
    "        # Construct the paths for the input image and the corresponding mask\n",
    "        image_path = os.path.join(input_folder, image_file)\n",
    "        mask_path = os.path.join(mask_folder, os.path.splitext(image_file)[0] + \"_mask.png\")  # Assuming mask has same name with \"_mask\" suffix\n",
    "        \n",
    "        # Skip if mask doesn't exist\n",
    "        if not os.path.exists(mask_path):\n",
    "            print(f\"Mask not found for {image_file}, skipping...\")\n",
    "            continue\n",
    "        \n",
    "        # Open the image to check dimensions\n",
    "        with Image.open(image_path) as img:\n",
    "            width, height = img.size\n",
    "            if width * height > MAX_PIXELS:\n",
    "                scale_factor = (MAX_PIXELS / (width * height)) ** 0.5\n",
    "                new_width = int(width * scale_factor)\n",
    "                new_height = int(height * scale_factor)\n",
    "                img = img.resize((new_width, new_height), Image.ANTIALIAS)\n",
    "                \n",
    "                # Save the resized image temporarily\n",
    "                resized_image_path = os.path.join(output_folder, f\"resized_{image_file}\")\n",
    "                img.save(resized_image_path)\n",
    "                print(f\"Resized {image_file} to {new_width}x{new_height}\")\n",
    "            else:\n",
    "                resized_image_path = image_path  # No resizing needed\n",
    "\n",
    "        # Parameters for the API\n",
    "        params = {\n",
    "            \"image\": resized_image_path,\n",
    "            \"mask\": mask_path,\n",
    "            \"negative_prompt\": negative_prompt,\n",
    "            \"seed\": seed,\n",
    "            \"mode\": \"mask\",\n",
    "            \"output_format\": output_format,\n",
    "            \"prompt\": prompt\n",
    "        }\n",
    "        \n",
    "        # Call the API\n",
    "        response = send_generation_request(\"https://api.stability.ai/v2beta/stable-image/edit/inpaint\", params)\n",
    "        \n",
    "        # Decode response\n",
    "        output_image = response.content\n",
    "        finish_reason = response.headers.get(\"finish-reason\")\n",
    "        seed = response.headers.get(\"seed\")\n",
    "        \n",
    "        # Check for NSFW classification\n",
    "        if finish_reason == 'CONTENT_FILTERED':\n",
    "            print(f\"Generation for {image_file} failed due to NSFW classification.\")\n",
    "            continue\n",
    "        \n",
    "        # Save the result image\n",
    "        filename, _ = os.path.splitext(image_file)\n",
    "        edited_filename = f\"edited_{filename}_{seed}.{output_format}\"\n",
    "        edited_path = os.path.join(output_folder, edited_filename)\n",
    "        \n",
    "        with open(edited_path, \"wb\") as f:\n",
    "            f.write(output_image)\n",
    "        \n",
    "        print(f\"Saved image to {edited_path}\")\n",
    "\n",
    "# Process images\n",
    "process_images(input_folder, mask_folder, output_folder, prompt, negative_prompt, seed, output_format)\n"
   ]
  },
  {
   "cell_type": "code",
   "execution_count": null,
   "metadata": {},
   "outputs": [],
   "source": []
  }
 ],
 "metadata": {
  "kernelspec": {
   "display_name": "stability-inpaint",
   "language": "python",
   "name": "python3"
  },
  "language_info": {
   "codemirror_mode": {
    "name": "ipython",
    "version": 3
   },
   "file_extension": ".py",
   "mimetype": "text/x-python",
   "name": "python",
   "nbconvert_exporter": "python",
   "pygments_lexer": "ipython3",
   "version": "3.10.12"
  }
 },
 "nbformat": 4,
 "nbformat_minor": 2
}
