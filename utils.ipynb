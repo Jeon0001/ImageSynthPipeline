{
 "cells": [
  {
   "cell_type": "markdown",
   "metadata": {},
   "source": [
    "# Utility Functions (for organizing data)"
   ]
  },
  {
   "cell_type": "markdown",
   "metadata": {},
   "source": [
    "### Add acceptable names for UK and US"
   ]
  },
  {
   "cell_type": "code",
   "execution_count": 9,
   "metadata": {},
   "outputs": [
    {
     "name": "stdout",
     "output_type": "stream",
     "text": [
      "The 'original_country' column has been updated in responses/glm4v/UK_Festival_Results_2.csv.\n"
     ]
    }
   ],
   "source": [
    "import pandas as pd\n",
    "\n",
    "# Load the CSV file into a DataFrame\n",
    "def add_labels(csv_file_path, acceptable_names):\n",
    "    df = pd.read_csv(csv_file_path)\n",
    "    df['original_country'] = acceptable_names\n",
    "    df.to_csv(csv_file_path, index=False)\n",
    "    print(f\"The 'original_country' column has been updated in {csv_file_path}.\")\n",
    "\n",
    "\n",
    "acceptable_names = \"UK,United Kingdom,Scotland,Britain,British,Irish,Wales,England,English\"\n",
    "# acceptable_names = \"USA,US,the United States of America,the United States,Hawaii,American\"\n",
    "for model in ['gpt4o', 'glm4v', 'internVL']: \n",
    "    add_labels(f\"responses/{model}/US_Food_Results.csv\", acceptable_names)\n",
    "# add_labels(f\"responses/glm4v/UK_Festival_Results_2.csv\", acceptable_names)\n"
   ]
  },
  {
   "cell_type": "markdown",
   "metadata": {},
   "source": [
    "\n",
    "### Add Food Label Column"
   ]
  },
  {
   "cell_type": "markdown",
   "metadata": {},
   "source": [
    "Referring to the country name and image index from the **csv file of food labels**, it will assign a matching label to each image file in a given **csv file of responses**. Therefore, it's important for an original image and their corresponding synthesized images to have the same index.\n",
    "\n",
    "- For eg. Myanmar,Asian,Myanmar_Asian_food_1.png,\"The food in the photo is...` will refer to `Myanmar_food_1.png,\"Burmese Curry\"` from `food_label.csv`."
   ]
  },
  {
   "cell_type": "code",
   "execution_count": 6,
   "metadata": {},
   "outputs": [],
   "source": [
    "import pandas as pd\n",
    "\n",
    "def match_food_label(food_label_csv, responses_csv):\n",
    "    labels_df = pd.read_csv(food_label_csv)\n",
    "    details_df = pd.read_csv(responses_csv)\n",
    "\n",
    "    # Extract the country and image number from the image_file in labels_df\n",
    "    labels_df[\"country\"] = labels_df[\"image_file\"].str.extract(r\"^([A-Za-z]+)_\")\n",
    "    labels_df[\"image_number\"] = labels_df[\"image_file\"].str.extract(r\"(\\d+)\")\n",
    "\n",
    "    # Extract the country and image number from the image_file_name in details_df\n",
    "    details_df[\"country\"] = details_df[\"image_file_name\"].str.extract(r\"^([A-Za-z]+)_\")\n",
    "    details_df[\"image_number\"] = details_df[\"image_file_name\"].str.extract(r\"(\\d+)\")\n",
    "\n",
    "    # Drop the 'label' column in details_df to avoid conflicts during merging\n",
    "    if \"label\" in details_df.columns:\n",
    "        details_df.drop(columns=[\"label\"], inplace=True)\n",
    "\n",
    "    # Merge on both 'country' and 'image_number'\n",
    "    merged_df = pd.merge(details_df, labels_df, on=[\"country\", \"image_number\"], how=\"left\")\n",
    "\n",
    "    # Drop auxiliary columns\n",
    "    merged_df.drop(columns=[\"country\", \"image_number\"], inplace=True)\n",
    "\n",
    "    # Reorder columns to place 'label' right after 'image_file_name'\n",
    "    columns_order = [\"original_country\", \"synthesized_race\", \"image_file_name\", \"label\", \"response\"]\n",
    "    merged_df = merged_df[columns_order]\n",
    "\n",
    "    # Save to a new CSV file\n",
    "    merged_df.to_csv(responses_csv, index=False)\n",
    "\n",
    "food_label_csv = \"images/food_label.csv\"\n",
    "\n",
    "for model in ['gpt4o', 'glm4v', 'internVL']: \n",
    "    responses_csv = f\"responses/{model}/US_Food_Results.csv\"\n",
    "    match_food_label(food_label_csv, responses_csv)"
   ]
  },
  {
   "cell_type": "markdown",
   "metadata": {},
   "source": [
    "### Converting race names"
   ]
  },
  {
   "cell_type": "code",
   "execution_count": 4,
   "metadata": {},
   "outputs": [],
   "source": [
    "import os\n",
    "import pandas as pd\n",
    "\n",
    "race_map = {\n",
    "    'Asian': 'EastAsian',\n",
    "    'Black': 'African',\n",
    "    'Indian': 'SouthAsian',\n",
    "    'White': 'Caucasian',\n",
    "}\n",
    "\n",
    "def convert_race_names(parent_dir):\n",
    "    for model in ['internVL', 'gpt4o', 'glm4v']:\n",
    "        for filename in os.listdir(os.path.join(parent_dir, model)):\n",
    "            if filename.endswith('.csv'):\n",
    "                csv_file_path = os.path.join(parent_dir, model, filename)\n",
    "                df = pd.read_csv(csv_file_path)\n",
    "                \n",
    "                # Replace race values in 'synthesized_race' column\n",
    "                df['synthesized_race'] = df['synthesized_race'].replace(race_map)\n",
    "\n",
    "                # Replace race values in 'image_file_name' column\n",
    "                for old_race, new_race in race_map.items():\n",
    "                    df['image_file_name'] = df['image_file_name'].str.replace(f\"_{old_race}_\", f\"_{new_race}_\")     \n",
    "\n",
    "                df.to_csv(csv_file_path, index=False)\n",
    "\n",
    "convert_race_names('responses')"
   ]
  },
  {
   "cell_type": "code",
   "execution_count": 3,
   "metadata": {},
   "outputs": [
    {
     "name": "stdout",
     "output_type": "stream",
     "text": [
      "Renamed directory: images/Azerbaijani_Festival/synthesized_images/Black -> images/Azerbaijani_Festival/synthesized_images/African\n",
      "Renamed directory: images/Azerbaijani_Festival/synthesized_images/Indian -> images/Azerbaijani_Festival/synthesized_images/SouthAsian\n",
      "Renamed directory: images/Azerbaijani_Festival/synthesized_images/Asian -> images/Azerbaijani_Festival/synthesized_images/EastAsian\n",
      "Renamed directory: images/US_Festival/synthesized_images/Black -> images/US_Festival/synthesized_images/African\n",
      "Renamed directory: images/US_Festival/synthesized_images/Indian -> images/US_Festival/synthesized_images/SouthAsian\n",
      "Renamed directory: images/US_Festival/synthesized_images/Asian -> images/US_Festival/synthesized_images/EastAsian\n",
      "Renamed directory: images/US_Food/synthesized_images/Black -> images/US_Food/synthesized_images/African\n",
      "Renamed directory: images/US_Food/synthesized_images/Indian -> images/US_Food/synthesized_images/SouthAsian\n",
      "Renamed directory: images/US_Food/synthesized_images/White -> images/US_Food/synthesized_images/Caucasian\n",
      "Renamed directory: images/US_Food/synthesized_images/Asian -> images/US_Food/synthesized_images/EastAsian\n",
      "Renamed directory: images/UK_Clothes/synthesized_images/Black -> images/UK_Clothes/synthesized_images/African\n",
      "Renamed directory: images/UK_Clothes/synthesized_images/Indian -> images/UK_Clothes/synthesized_images/SouthAsian\n",
      "Renamed directory: images/UK_Clothes/synthesized_images/White -> images/UK_Clothes/synthesized_images/Caucasian\n",
      "Renamed directory: images/UK_Clothes/synthesized_images/Asian -> images/UK_Clothes/synthesized_images/EastAsian\n",
      "Renamed directory: images/Korean_Food/synthesized_images/Black -> images/Korean_Food/synthesized_images/African\n",
      "Renamed directory: images/Korean_Food/synthesized_images/Indian -> images/Korean_Food/synthesized_images/SouthAsian\n",
      "Renamed directory: images/Korean_Food/synthesized_images/White -> images/Korean_Food/synthesized_images/Caucasian\n",
      "Renamed directory: images/Korean_Food/synthesized_images/Asian -> images/Korean_Food/synthesized_images/EastAsian\n",
      "Renamed directory: images/UK_Food/synthesized_images/Black -> images/UK_Food/synthesized_images/African\n",
      "Renamed directory: images/UK_Food/synthesized_images/Indian -> images/UK_Food/synthesized_images/SouthAsian\n",
      "Renamed directory: images/UK_Food/synthesized_images/White -> images/UK_Food/synthesized_images/Caucasian\n",
      "Renamed directory: images/UK_Food/synthesized_images/Asian -> images/UK_Food/synthesized_images/EastAsian\n",
      "Renamed directory: images/Myanmar_Festival/synthesized_images/Black -> images/Myanmar_Festival/synthesized_images/African\n",
      "Renamed directory: images/Myanmar_Festival/synthesized_images/Indian -> images/Myanmar_Festival/synthesized_images/SouthAsian\n",
      "Renamed directory: images/Myanmar_Festival/synthesized_images/White -> images/Myanmar_Festival/synthesized_images/Caucasian\n",
      "Renamed directory: images/Myanmar_Festival/synthesized_images/Asian -> images/Myanmar_Festival/synthesized_images/EastAsian\n",
      "Renamed directory: images/UK_Festival/synthesized_images/Black -> images/UK_Festival/synthesized_images/African\n",
      "Renamed directory: images/UK_Festival/synthesized_images/Indian -> images/UK_Festival/synthesized_images/SouthAsian\n",
      "Renamed directory: images/UK_Festival/synthesized_images/White -> images/UK_Festival/synthesized_images/Caucasian\n",
      "Renamed directory: images/UK_Festival/synthesized_images/Asian -> images/UK_Festival/synthesized_images/EastAsian\n",
      "Renamed directory: images/Azerbaijani_Food/synthesized_images/Black -> images/Azerbaijani_Food/synthesized_images/African\n",
      "Renamed directory: images/Azerbaijani_Food/synthesized_images/Indian -> images/Azerbaijani_Food/synthesized_images/SouthAsian\n",
      "Renamed directory: images/Azerbaijani_Food/synthesized_images/Asian -> images/Azerbaijani_Food/synthesized_images/EastAsian\n",
      "Renamed directory: images/Korean_Clothes/synthesized_images/Black -> images/Korean_Clothes/synthesized_images/African\n",
      "Renamed directory: images/Korean_Clothes/synthesized_images/Indian -> images/Korean_Clothes/synthesized_images/SouthAsian\n",
      "Renamed directory: images/Korean_Clothes/synthesized_images/White -> images/Korean_Clothes/synthesized_images/Caucasian\n",
      "Renamed directory: images/Korean_Clothes/synthesized_images/Asian -> images/Korean_Clothes/synthesized_images/EastAsian\n",
      "Renamed directory: images/Myanmar_Food/synthesized_images/Black -> images/Myanmar_Food/synthesized_images/African\n",
      "Renamed directory: images/Myanmar_Food/synthesized_images/Indian -> images/Myanmar_Food/synthesized_images/SouthAsian\n",
      "Renamed directory: images/Myanmar_Food/synthesized_images/White -> images/Myanmar_Food/synthesized_images/Caucasian\n",
      "Renamed directory: images/Myanmar_Food/synthesized_images/Asian -> images/Myanmar_Food/synthesized_images/EastAsian\n",
      "Renamed directory: images/Myanmar_Clothes/synthesized_images/Black -> images/Myanmar_Clothes/synthesized_images/African\n",
      "Renamed directory: images/Myanmar_Clothes/synthesized_images/Indian -> images/Myanmar_Clothes/synthesized_images/SouthAsian\n",
      "Renamed directory: images/Myanmar_Clothes/synthesized_images/White -> images/Myanmar_Clothes/synthesized_images/Caucasian\n",
      "Renamed directory: images/Myanmar_Clothes/synthesized_images/Asian -> images/Myanmar_Clothes/synthesized_images/EastAsian\n",
      "Renamed directory: images/Korean_Festival/synthesized_images/Black -> images/Korean_Festival/synthesized_images/African\n",
      "Renamed directory: images/Korean_Festival/synthesized_images/Indian -> images/Korean_Festival/synthesized_images/SouthAsian\n",
      "Renamed directory: images/Korean_Festival/synthesized_images/White -> images/Korean_Festival/synthesized_images/Caucasian\n",
      "Renamed directory: images/Korean_Festival/synthesized_images/Asian -> images/Korean_Festival/synthesized_images/EastAsian\n",
      "Renamed directory: images/Azerbaijani_Clothes/synthesized_images/Black -> images/Azerbaijani_Clothes/synthesized_images/African\n",
      "Renamed directory: images/Azerbaijani_Clothes/synthesized_images/Indian -> images/Azerbaijani_Clothes/synthesized_images/SouthAsian\n",
      "Renamed directory: images/Azerbaijani_Clothes/synthesized_images/Asian -> images/Azerbaijani_Clothes/synthesized_images/EastAsian\n"
     ]
    }
   ],
   "source": [
    "import os\n",
    "\n",
    "# Define the race mapping\n",
    "race_map = {\n",
    "    'Asian': 'EastAsian',\n",
    "    'Black': 'African',\n",
    "    'Indian': 'SouthAsian',\n",
    "    'White': 'Caucasian',\n",
    "}\n",
    "\n",
    "# Base directory containing the image folders\n",
    "base_dir = \"images\"\n",
    "\n",
    "# Rename directories and files\n",
    "for root, dirs, files in os.walk(base_dir, topdown=False):\n",
    "    # Rename directories\n",
    "    for dir_name in dirs:\n",
    "        for old_race, new_race in race_map.items():\n",
    "            if dir_name == old_race:\n",
    "                old_dir_path = os.path.join(root, dir_name)\n",
    "                new_dir_path = os.path.join(root, new_race)\n",
    "                os.rename(old_dir_path, new_dir_path)\n",
    "                print(f\"Renamed directory: {old_dir_path} -> {new_dir_path}\")\n",
    "\n",
    "    # Rename files\n",
    "    for file_name in files:\n",
    "        old_file_path = os.path.join(root, file_name)\n",
    "        new_file_name = file_name\n",
    "        for old_race, new_race in race_map.items():\n",
    "            if f\"_{old_race}_\" in file_name:\n",
    "                new_file_name = file_name.replace(f\"_{old_race}_\", f\"_{new_race}_\")\n",
    "                break\n",
    "        new_file_path = os.path.join(root, new_file_name)\n",
    "        if old_file_path != new_file_path:\n",
    "            os.rename(old_file_path, new_file_path)\n",
    "            # print(f\"Renamed file: {old_file_path} -> {new_file_path}\")\n"
   ]
  },
  {
   "cell_type": "markdown",
   "metadata": {},
   "source": [
    "### Renaming files in a random index order"
   ]
  },
  {
   "cell_type": "code",
   "execution_count": 5,
   "metadata": {},
   "outputs": [],
   "source": [
    "import os\n",
    "\n",
    "def rename_files_to_azerbaijani_festival(directory):\n",
    "    temp_suffix = \"_temp\"\n",
    "    temp_files = []\n",
    "\n",
    "    # Pass 1: Rename to temporary files to avoid overwrites\n",
    "    for index, filename in enumerate(os.listdir(directory)):\n",
    "        if filename.endswith(('.png', '.jpg', '.jpeg')):\n",
    "            new_filename = f\"US_Festival_{index}{temp_suffix}.png\"\n",
    "            os.rename(os.path.join(directory, filename), os.path.join(directory, new_filename))\n",
    "            temp_files.append(new_filename)\n",
    "\n",
    "    # Pass 2: Rename from temporary to final names\n",
    "    for temp_filename in temp_files:\n",
    "        final_filename = temp_filename.replace(temp_suffix, \"\")\n",
    "        os.rename(os.path.join(directory, temp_filename), os.path.join(directory, final_filename))\n",
    "\n",
    "directory = \"images/US_Festival/original_images\"\n",
    "rename_files_to_azerbaijani_festival(directory)"
   ]
  },
  {
   "cell_type": "markdown",
   "metadata": {},
   "source": [
    "### Decrement index of images in csv file"
   ]
  },
  {
   "cell_type": "code",
   "execution_count": null,
   "metadata": {},
   "outputs": [],
   "source": [
    "import pandas as pd\n",
    "\n",
    "def decrement_image_index(csv_file_path):\n",
    "    df = pd.read_csv(csv_file_path)\n",
    "    \n",
    "    # Function to decrement the index in the image file name\n",
    "    def decrement_index(file_name):\n",
    "        parts = file_name.split('_')\n",
    "        index_part = parts[-1].split('.')[0]\n",
    "        new_index = str(int(index_part) - 1)\n",
    "        parts[-1] = new_index + '.' + parts[-1].split('.')[1]\n",
    "        return '_'.join(parts)\n",
    "    \n",
    "    # Apply the function to the image file name column\n",
    "    df['image_file_name'] = df['image_file_name'].apply(decrement_index)\n",
    "    \n",
    "    # Save the updated dataframe back to the CSV file\n",
    "    df.to_csv(csv_file_path, index=False)\n",
    "\n",
    "csv_file_path = \"images/food_label.csv\"\n",
    "decrement_image_index(csv_file_path)"
   ]
  },
  {
   "cell_type": "markdown",
   "metadata": {},
   "source": [
    "### Change file names in the folder in accordance with index"
   ]
  },
  {
   "cell_type": "code",
   "execution_count": 5,
   "metadata": {},
   "outputs": [],
   "source": [
    "import os\n",
    "\n",
    "def decrement_image_index_in_folder(folder_path, category, race):\n",
    "    temp_suffix = \"_temp\"\n",
    "    temp_files = []\n",
    "\n",
    "    # Pass 1: Rename to temporary files to avoid overwrites\n",
    "    for filename in os.listdir(folder_path):\n",
    "        if filename.endswith(('.png', '.jpg', '.jpeg')):\n",
    "            parts = filename.split('_')\n",
    "            # index_part = parts[-1].split('.')[0]\n",
    "            index_part = parts[-2]\n",
    "\n",
    "            new_index = str(int(index_part))\n",
    "\n",
    "            new_filename = f'Azerbaijani_{category}_{new_index}_mask.png'\n",
    "            temp_filename = new_filename + temp_suffix\n",
    "            os.rename(os.path.join(folder_path, filename), os.path.join(folder_path, temp_filename))\n",
    "            temp_files.append(temp_filename)\n",
    "\n",
    "\n",
    "    # Pass 2: Rename from temporary to final names\n",
    "    for temp_filename in temp_files:\n",
    "        final_filename = temp_filename.replace(temp_suffix, \"\")\n",
    "        os.rename(os.path.join(folder_path, temp_filename), os.path.join(folder_path, final_filename))\n",
    "\n",
    "races = ['Asian', 'Black', 'Caucasian', 'Indian']\n",
    "category = 'Food'\n",
    "\n",
    "folder_path = f\"images/Azerbaijani_{category}/masks\"\n",
    "decrement_image_index_in_folder(folder_path, category, 'original')\n",
    "\n",
    "# for race in races:\n",
    "#     folder_path = f\"images/Azerbaijani_{category}/synthesized_images/{race}\"\n",
    "#     decrement_image_index_in_folder(folder_path, category, race)\n"
   ]
  }
 ],
 "metadata": {
  "colab": {
   "provenance": []
  },
  "kernelspec": {
   "display_name": "ai-dev",
   "language": "python",
   "name": "python3"
  },
  "language_info": {
   "codemirror_mode": {
    "name": "ipython",
    "version": 3
   },
   "file_extension": ".py",
   "mimetype": "text/x-python",
   "name": "python",
   "nbconvert_exporter": "python",
   "pygments_lexer": "ipython3",
   "version": "3.12.5"
  }
 },
 "nbformat": 4,
 "nbformat_minor": 0
}
