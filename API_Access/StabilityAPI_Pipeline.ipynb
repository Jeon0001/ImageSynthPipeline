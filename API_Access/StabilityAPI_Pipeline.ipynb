{
 "cells": [
  {
   "cell_type": "markdown",
   "metadata": {},
   "source": [
    "# Pipeline for locally accessing Inpainting API by stability AI."
   ]
  },
  {
   "cell_type": "markdown",
   "metadata": {},
   "source": [
    "## 0. Install Required Libraries"
   ]
  },
  {
   "cell_type": "markdown",
   "metadata": {},
   "source": [
    "pip install pillow requests ipython"
   ]
  },
  {
   "cell_type": "markdown",
   "metadata": {},
   "source": [
    "## 1. Import Required Libraries"
   ]
  },
  {
   "cell_type": "code",
   "execution_count": 1,
   "metadata": {},
   "outputs": [],
   "source": [
    "from io import BytesIO\n",
    "import json\n",
    "import os\n",
    "from PIL import Image\n",
    "import requests\n",
    "import time\n",
    "from IPython.display import display"
   ]
  },
  {
   "cell_type": "markdown",
   "metadata": {},
   "source": [
    "## 2. Connect to stability API"
   ]
  },
  {
   "cell_type": "code",
   "execution_count": 2,
   "metadata": {},
   "outputs": [],
   "source": [
    "import getpass\n",
    "# To get your API key, message me on slack to receive it...\n",
    "STABILITY_KEY = getpass.getpass('Enter your API Key: ')\n"
   ]
  },
  {
   "cell_type": "markdown",
   "metadata": {},
   "source": [
    "## 3. Define Helper Functions"
   ]
  },
  {
   "cell_type": "code",
   "execution_count": 3,
   "metadata": {},
   "outputs": [],
   "source": [
    "def send_generation_request(host, params):\n",
    "    headers = {\n",
    "        \"Accept\": \"image/*\",\n",
    "        \"Authorization\": f\"Bearer {STABILITY_KEY}\"\n",
    "    }\n",
    "\n",
    "    # Encode parameters\n",
    "    files = {}\n",
    "    image = params.pop(\"image\", None)\n",
    "    mask = params.pop(\"mask\", None)\n",
    "    if image:\n",
    "        files[\"image\"] = open(image, 'rb')\n",
    "    if mask:\n",
    "        files[\"mask\"] = open(mask, 'rb')\n",
    "    if not files:\n",
    "        files[\"none\"] = ''\n",
    "\n",
    "    # Send request\n",
    "    print(f\"Sending REST request to {host}...\")\n",
    "    response = requests.post(\n",
    "        host,\n",
    "        headers=headers,\n",
    "        files=files,\n",
    "        data=params\n",
    "    )\n",
    "    if not response.ok:\n",
    "        raise Exception(f\"HTTP {response.status_code}: {response.text}\")\n",
    "\n",
    "    return response\n",
    "\n",
    "def send_async_generation_request(host, params):\n",
    "    headers = {\n",
    "        \"Accept\": \"application/json\",\n",
    "        \"Authorization\": f\"Bearer {STABILITY_KEY}\"\n",
    "    }\n",
    "\n",
    "    # Encode parameters\n",
    "    files = {}\n",
    "    if \"image\" in params:\n",
    "        image = params.pop(\"image\")\n",
    "        files = {\"image\": open(image, 'rb')}\n",
    "\n",
    "    # Send request\n",
    "    print(f\"Sending REST request to {host}...\")\n",
    "    response = requests.post(\n",
    "        host,\n",
    "        headers=headers,\n",
    "        files=files,\n",
    "        data=params\n",
    "    )\n",
    "    if not response.ok:\n",
    "        raise Exception(f\"HTTP {response.status_code}: {response.text}\")\n",
    "\n",
    "    # Process async response\n",
    "    response_dict = response.json()\n",
    "    generation_id = response_dict.get(\"id\")\n",
    "    if not generation_id:\n",
    "        raise Exception(\"Expected 'id' in response\")\n",
    "\n",
    "    # Loop until result or timeout\n",
    "    timeout = int(os.getenv(\"WORKER_TIMEOUT\", 500))\n",
    "    start = time.time()\n",
    "    status_code = 202\n",
    "    while status_code == 202:\n",
    "        response = requests.get(\n",
    "            f\"{host}/result/{generation_id}\",\n",
    "            headers={\n",
    "                **headers,\n",
    "                \"Accept\": \"image/*\"\n",
    "            },\n",
    "        )\n",
    "\n",
    "        if not response.ok:\n",
    "            raise Exception(f\"HTTP {response.status_code}: {response.text}\")\n",
    "        status_code = response.status_code\n",
    "        time.sleep(10)\n",
    "        if time.time() - start > timeout:\n",
    "            raise Exception(f\"Timeout after {timeout} seconds\")\n",
    "\n",
    "    return response\n"
   ]
  },
  {
   "cell_type": "markdown",
   "metadata": {},
   "source": [
    "## 4. Specify Paths and Prompts"
   ]
  },
  {
   "cell_type": "code",
   "execution_count": null,
   "metadata": {},
   "outputs": [],
   "source": [
    "image = \"D:/Data Downloads/Bing Image Scraped Results/Korean_Clothes/1ae851cc084484321f3d5409093711f2.jpg\"  # Replace with your image path Please do this...\n",
    "mask = \"D:/Data Downloads/Bing Image Scraped Results/Korean_Clothes_Mask/1ae851cc084484321f3d5409093711f2_mask.png\"  # Replace with your mask image path if any\n",
    "prompt = \"White Woman Wearing the Clothes\"  # Your prompt\n",
    "negative_prompt = \"\"  # Your negative prompt (optional)\n",
    "seed = 0  # Seed value (0 for random)\n",
    "output_format = \"png\"  # Choose from \"webp\", \"jpeg\", or \"png\""
   ]
  },
  {
   "cell_type": "markdown",
   "metadata": {},
   "source": [
    "## 5. Perform Inpainting"
   ]
  },
  {
   "cell_type": "code",
   "execution_count": null,
   "metadata": {},
   "outputs": [
    {
     "ename": "OSError",
     "evalue": "[Errno 22] Invalid argument: 'D:\\\\Data Downloads\\\\Bing Image Scraped Results\\\\Korean_Clothes_Mask\\x01ae851cc084484321f3d5409093711f2_mask.png'",
     "output_type": "error",
     "traceback": [
      "\u001b[1;31m---------------------------------------------------------------------------\u001b[0m",
      "\u001b[1;31mOSError\u001b[0m                                   Traceback (most recent call last)",
      "Cell \u001b[1;32mIn[7], line 13\u001b[0m\n\u001b[0;32m      1\u001b[0m host \u001b[38;5;241m=\u001b[39m \u001b[38;5;124m\"\u001b[39m\u001b[38;5;124mhttps://api.stability.ai/v2beta/stable-image/edit/inpaint\u001b[39m\u001b[38;5;124m\"\u001b[39m\n\u001b[0;32m      3\u001b[0m params \u001b[38;5;241m=\u001b[39m {\n\u001b[0;32m      4\u001b[0m     \u001b[38;5;124m\"\u001b[39m\u001b[38;5;124mimage\u001b[39m\u001b[38;5;124m\"\u001b[39m: image,\n\u001b[0;32m      5\u001b[0m     \u001b[38;5;124m\"\u001b[39m\u001b[38;5;124mmask\u001b[39m\u001b[38;5;124m\"\u001b[39m: mask,\n\u001b[1;32m   (...)\u001b[0m\n\u001b[0;32m     10\u001b[0m     \u001b[38;5;124m\"\u001b[39m\u001b[38;5;124mprompt\u001b[39m\u001b[38;5;124m\"\u001b[39m: prompt\n\u001b[0;32m     11\u001b[0m }\n\u001b[1;32m---> 13\u001b[0m response \u001b[38;5;241m=\u001b[39m \u001b[43msend_generation_request\u001b[49m\u001b[43m(\u001b[49m\u001b[43mhost\u001b[49m\u001b[43m,\u001b[49m\u001b[43m \u001b[49m\u001b[43mparams\u001b[49m\u001b[43m)\u001b[49m\n\u001b[0;32m     15\u001b[0m \u001b[38;5;66;03m# Decode response\u001b[39;00m\n\u001b[0;32m     16\u001b[0m output_image \u001b[38;5;241m=\u001b[39m response\u001b[38;5;241m.\u001b[39mcontent\n",
      "Cell \u001b[1;32mIn[3], line 14\u001b[0m, in \u001b[0;36msend_generation_request\u001b[1;34m(host, params)\u001b[0m\n\u001b[0;32m     12\u001b[0m     files[\u001b[38;5;124m\"\u001b[39m\u001b[38;5;124mimage\u001b[39m\u001b[38;5;124m\"\u001b[39m] \u001b[38;5;241m=\u001b[39m \u001b[38;5;28mopen\u001b[39m(image, \u001b[38;5;124m'\u001b[39m\u001b[38;5;124mrb\u001b[39m\u001b[38;5;124m'\u001b[39m)\n\u001b[0;32m     13\u001b[0m \u001b[38;5;28;01mif\u001b[39;00m mask:\n\u001b[1;32m---> 14\u001b[0m     files[\u001b[38;5;124m\"\u001b[39m\u001b[38;5;124mmask\u001b[39m\u001b[38;5;124m\"\u001b[39m] \u001b[38;5;241m=\u001b[39m \u001b[38;5;28;43mopen\u001b[39;49m\u001b[43m(\u001b[49m\u001b[43mmask\u001b[49m\u001b[43m,\u001b[49m\u001b[43m \u001b[49m\u001b[38;5;124;43m'\u001b[39;49m\u001b[38;5;124;43mrb\u001b[39;49m\u001b[38;5;124;43m'\u001b[39;49m\u001b[43m)\u001b[49m\n\u001b[0;32m     15\u001b[0m \u001b[38;5;28;01mif\u001b[39;00m \u001b[38;5;129;01mnot\u001b[39;00m files:\n\u001b[0;32m     16\u001b[0m     files[\u001b[38;5;124m\"\u001b[39m\u001b[38;5;124mnone\u001b[39m\u001b[38;5;124m\"\u001b[39m] \u001b[38;5;241m=\u001b[39m \u001b[38;5;124m'\u001b[39m\u001b[38;5;124m'\u001b[39m\n",
      "File \u001b[1;32mc:\\Users\\Admin\\anaconda3\\envs\\stability-inpaint\\lib\\site-packages\\IPython\\core\\interactiveshell.py:324\u001b[0m, in \u001b[0;36m_modified_open\u001b[1;34m(file, *args, **kwargs)\u001b[0m\n\u001b[0;32m    317\u001b[0m \u001b[38;5;28;01mif\u001b[39;00m file \u001b[38;5;129;01min\u001b[39;00m {\u001b[38;5;241m0\u001b[39m, \u001b[38;5;241m1\u001b[39m, \u001b[38;5;241m2\u001b[39m}:\n\u001b[0;32m    318\u001b[0m     \u001b[38;5;28;01mraise\u001b[39;00m \u001b[38;5;167;01mValueError\u001b[39;00m(\n\u001b[0;32m    319\u001b[0m         \u001b[38;5;124mf\u001b[39m\u001b[38;5;124m\"\u001b[39m\u001b[38;5;124mIPython won\u001b[39m\u001b[38;5;124m'\u001b[39m\u001b[38;5;124mt let you open fd=\u001b[39m\u001b[38;5;132;01m{\u001b[39;00mfile\u001b[38;5;132;01m}\u001b[39;00m\u001b[38;5;124m by default \u001b[39m\u001b[38;5;124m\"\u001b[39m\n\u001b[0;32m    320\u001b[0m         \u001b[38;5;124m\"\u001b[39m\u001b[38;5;124mas it is likely to crash IPython. If you know what you are doing, \u001b[39m\u001b[38;5;124m\"\u001b[39m\n\u001b[0;32m    321\u001b[0m         \u001b[38;5;124m\"\u001b[39m\u001b[38;5;124myou can use builtins\u001b[39m\u001b[38;5;124m'\u001b[39m\u001b[38;5;124m open.\u001b[39m\u001b[38;5;124m\"\u001b[39m\n\u001b[0;32m    322\u001b[0m     )\n\u001b[1;32m--> 324\u001b[0m \u001b[38;5;28;01mreturn\u001b[39;00m io_open(file, \u001b[38;5;241m*\u001b[39margs, \u001b[38;5;241m*\u001b[39m\u001b[38;5;241m*\u001b[39mkwargs)\n",
      "\u001b[1;31mOSError\u001b[0m: [Errno 22] Invalid argument: 'D:\\\\Data Downloads\\\\Bing Image Scraped Results\\\\Korean_Clothes_Mask\\x01ae851cc084484321f3d5409093711f2_mask.png'"
     ]
    }
   ],
   "source": [
    "host = \"https://api.stability.ai/v2beta/stable-image/edit/inpaint\"\n",
    "\n",
    "params = {\n",
    "    \"image\": image,\n",
    "    \"mask\": mask,\n",
    "    \"negative_prompt\": negative_prompt,\n",
    "    \"seed\": seed,\n",
    "    \"mode\": \"mask\",\n",
    "    \"output_format\": output_format,\n",
    "    \"prompt\": prompt\n",
    "}\n",
    "\n",
    "response = send_generation_request(host, params)\n",
    "\n",
    "# Decode response\n",
    "output_image = response.content\n",
    "finish_reason = response.headers.get(\"finish-reason\")\n",
    "seed = response.headers.get(\"seed\")\n",
    "\n",
    "# Check for NSFW classification\n",
    "if finish_reason == 'CONTENT_FILTERED':\n",
    "    raise Warning(\"Generation failed NSFW classifier\")\n",
    "\n",
    "# Function to save the result image to the specified path\n",
    "def save_result_image(image_path, output_image, seed, output_format):\n",
    "    filename, _ = os.path.splitext(os.path.basename(image_path))\n",
    "    edited = f\"edited_{filename}_{seed}.{output_format}\"\n",
    "    edited_path = os.path.join(image_path, edited)\n",
    "    with open(edited_path, \"wb\") as f:\n",
    "        f.write(output_image)\n",
    "    print(f\"Saved image to {edited_path}\")\n",
    "    return edited_path\n",
    "\n",
    "# Specify the directory where you want to save the image\n",
    "output_directory = \"D:/Data Downloads/Bing Image Scraped Results\"  # Change this to your desired path\n",
    "\n",
    "# Save the result image\n",
    "edited_image_path = save_result_image(output_directory, output_image, seed, output_format)\n",
    "\n",
    "# Display the images\n",
    "print(\"Original image:\")\n",
    "display(Image.open(image))\n",
    "print(\"Result image:\")\n",
    "display(Image.open(edited_image_path))\n"
   ]
  }
 ],
 "metadata": {
  "kernelspec": {
   "display_name": "stability-inpaint",
   "language": "python",
   "name": "python3"
  },
  "language_info": {
   "codemirror_mode": {
    "name": "ipython",
    "version": 3
   },
   "file_extension": ".py",
   "mimetype": "text/x-python",
   "name": "python",
   "nbconvert_exporter": "python",
   "pygments_lexer": "ipython3",
   "version": "3.10.12"
  }
 },
 "nbformat": 4,
 "nbformat_minor": 2
}
