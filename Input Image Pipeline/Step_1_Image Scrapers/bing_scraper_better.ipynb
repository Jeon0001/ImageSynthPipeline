{
 "cells": [
  {
   "cell_type": "markdown",
   "metadata": {},
   "source": [
    "# How to use Image Scraper"
   ]
  },
  {
   "cell_type": "markdown",
   "metadata": {},
   "source": [
    "### First Pip Install\n",
    "\n",
    "```pip install git+https://github.com/ostrolucky/Bulk-Bing-Image-downloader```"
   ]
  },
  {
   "cell_type": "markdown",
   "metadata": {},
   "source": [
    "Then, in Terminal:"
   ]
  },
  {
   "cell_type": "markdown",
   "metadata": {},
   "source": [
    "bbid \"Insert Search Query\" -o \"Insert Output Directory\" --limit number_to_scrape"
   ]
  },
  {
   "cell_type": "markdown",
   "metadata": {},
   "source": [
    "Example: ```bbid \"Korean People in Traditional Korean Clothes\" -o \"D:/Data Downloads/Bing Image Scraped Results/KoreanClothes\" --limit 100```\n",
    "\n",
    "__If it doesn't work__\n",
    "Sometimes use ```bbid.py``` instead of ```bbid```"
   ]
  }
 ],
 "metadata": {
  "language_info": {
   "name": "python"
  }
 },
 "nbformat": 4,
 "nbformat_minor": 2
}
