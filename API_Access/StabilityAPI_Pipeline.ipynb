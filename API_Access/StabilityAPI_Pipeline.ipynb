{
 "cells": [
  {
   "cell_type": "markdown",
   "metadata": {},
   "source": [
    "# Pipeline for locally accessing Inpainting API by stability AI."
   ]
  },
  {
   "cell_type": "markdown",
   "metadata": {},
   "source": [
    "## 0. Install Required Libraries"
   ]
  },
  {
   "cell_type": "markdown",
   "metadata": {},
   "source": [
    "pip install pillow requests ipython"
   ]
  },
  {
   "cell_type": "markdown",
   "metadata": {},
   "source": [
    "## 1. Import Required Libraries"
   ]
  },
  {
   "cell_type": "code",
   "execution_count": 1,
   "metadata": {},
   "outputs": [],
   "source": [
    "from io import BytesIO\n",
    "import json\n",
    "import os\n",
    "from PIL import Image\n",
    "import requests\n",
    "import time\n",
    "from IPython.display import display"
   ]
  },
  {
   "cell_type": "markdown",
   "metadata": {},
   "source": [
    "## 2. Connect to stability API"
   ]
  },
  {
   "cell_type": "code",
   "execution_count": 2,
   "metadata": {},
   "outputs": [],
   "source": [
    "import getpass\n",
    "# To get your API key, message me on slack to receive it...\n",
    "STABILITY_KEY = getpass.getpass('Enter your API Key: ')\n"
   ]
  },
  {
   "cell_type": "markdown",
   "metadata": {},
   "source": [
    "## 3. Define Helper Functions"
   ]
  },
  {
   "cell_type": "code",
   "execution_count": 3,
   "metadata": {},
   "outputs": [],
   "source": [
    "def send_generation_request(host, params):\n",
    "    headers = {\n",
    "        \"Accept\": \"image/*\",\n",
    "        \"Authorization\": f\"Bearer {STABILITY_KEY}\"\n",
    "    }\n",
    "\n",
    "    # Encode parameters\n",
    "    files = {}\n",
    "    image = params.pop(\"image\", None)\n",
    "    mask = params.pop(\"mask\", None)\n",
    "    if image:\n",
    "        files[\"image\"] = open(image, 'rb')\n",
    "    if mask:\n",
    "        files[\"mask\"] = open(mask, 'rb')\n",
    "    if not files:\n",
    "        files[\"none\"] = ''\n",
    "\n",
    "    # Send request\n",
    "    print(f\"Sending REST request to {host}...\")\n",
    "    response = requests.post(\n",
    "        host,\n",
    "        headers=headers,\n",
    "        files=files,\n",
    "        data=params\n",
    "    )\n",
    "    if not response.ok:\n",
    "        raise Exception(f\"HTTP {response.status_code}: {response.text}\")\n",
    "\n",
    "    return response\n",
    "\n",
    "def send_async_generation_request(host, params):\n",
    "    headers = {\n",
    "        \"Accept\": \"application/json\",\n",
    "        \"Authorization\": f\"Bearer {STABILITY_KEY}\"\n",
    "    }\n",
    "\n",
    "    # Encode parameters\n",
    "    files = {}\n",
    "    if \"image\" in params:\n",
    "        image = params.pop(\"image\")\n",
    "        files = {\"image\": open(image, 'rb')}\n",
    "\n",
    "    # Send request\n",
    "    print(f\"Sending REST request to {host}...\")\n",
    "    response = requests.post(\n",
    "        host,\n",
    "        headers=headers,\n",
    "        files=files,\n",
    "        data=params\n",
    "    )\n",
    "    if not response.ok:\n",
    "        raise Exception(f\"HTTP {response.status_code}: {response.text}\")\n",
    "\n",
    "    # Process async response\n",
    "    response_dict = response.json()\n",
    "    generation_id = response_dict.get(\"id\")\n",
    "    if not generation_id:\n",
    "        raise Exception(\"Expected 'id' in response\")\n",
    "\n",
    "    # Loop until result or timeout\n",
    "    timeout = int(os.getenv(\"WORKER_TIMEOUT\", 500))\n",
    "    start = time.time()\n",
    "    status_code = 202\n",
    "    while status_code == 202:\n",
    "        response = requests.get(\n",
    "            f\"{host}/result/{generation_id}\",\n",
    "            headers={\n",
    "                **headers,\n",
    "                \"Accept\": \"image/*\"\n",
    "            },\n",
    "        )\n",
    "\n",
    "        if not response.ok:\n",
    "            raise Exception(f\"HTTP {response.status_code}: {response.text}\")\n",
    "        status_code = response.status_code\n",
    "        time.sleep(10)\n",
    "        if time.time() - start > timeout:\n",
    "            raise Exception(f\"Timeout after {timeout} seconds\")\n",
    "\n",
    "    return response\n"
   ]
  },
  {
   "cell_type": "markdown",
   "metadata": {},
   "source": [
    "## 4. Specify Paths and Prompts"
   ]
  },
  {
   "cell_type": "code",
   "execution_count": 4,
   "metadata": {},
   "outputs": [],
   "source": [
    "image = \"C:/Users/Admin/Desktop/Internship Cultural LLM/Github/Pipeline/ImageSynthPipeline/API_Access/Input_Images/Eating-korean-food-900x599.jpg\"  # Replace with your image path Please do this...\n",
    "mask = \"C:/Users/Admin/Desktop/Internship Cultural LLM/Github/Pipeline/ImageSynthPipeline/API_Access/Input_Masks/Eating-korean-food-900x599_mask.png\"  # Replace with your mask image path if any\n",
    "prompt = \"Korean Woman Eating the Food\"  # Your prompt\n",
    "negative_prompt = \"\"  # Your negative prompt (optional)\n",
    "seed = 0  # Seed value (0 for random)\n",
    "output_format = \"png\"  # Choose from \"webp\", \"jpeg\", or \"png\""
   ]
  },
  {
   "cell_type": "markdown",
   "metadata": {},
   "source": [
    "## 5. Perform Inpainting"
   ]
  },
  {
   "cell_type": "code",
   "execution_count": null,
   "metadata": {},
   "outputs": [
    {
     "name": "stdout",
     "output_type": "stream",
     "text": [
      "Sending REST request to https://api.stability.ai/v2beta/stable-image/edit/inpaint...\n"
     ]
    }
   ],
   "source": [
    "host = \"https://api.stability.ai/v2beta/stable-image/edit/inpaint\"\n",
    "\n",
    "params = {\n",
    "    \"image\": image,\n",
    "    \"mask\": mask,\n",
    "    \"negative_prompt\": negative_prompt,\n",
    "    \"seed\": seed,\n",
    "    \"mode\": \"mask\",\n",
    "    \"output_format\": output_format,\n",
    "    \"prompt\": prompt\n",
    "}\n",
    "\n",
    "response = send_generation_request(host, params)\n",
    "\n",
    "# Decode response\n",
    "output_image = response.content\n",
    "finish_reason = response.headers.get(\"finish-reason\")\n",
    "seed = response.headers.get(\"seed\")\n",
    "\n",
    "# Check for NSFW classification\n",
    "if finish_reason == 'CONTENT_FILTERED':\n",
    "    raise Warning(\"Generation failed NSFW classifier\")\n",
    "\n",
    "# Function to save the result image to the specified path\n",
    "def save_result_image(image_path, output_image, seed, output_format):\n",
    "    filename, _ = os.path.splitext(os.path.basename(image_path))\n",
    "    edited = f\"edited_{filename}_{seed}.{output_format}\"\n",
    "    edited_path = os.path.join(image_path, edited)\n",
    "    with open(edited_path, \"wb\") as f:\n",
    "        f.write(output_image)\n",
    "    print(f\"Saved image to {edited_path}\")\n",
    "    return edited_path\n",
    "\n",
    "# Specify the directory where you want to save the image\n",
    "output_directory = \"C:/Users/Admin/Desktop/Internship Cultural LLM/Github/Pipeline/ImageSynthPipeline/API_Access/Output_Images/\"  # Change this to your desired path\n",
    "\n",
    "# Save the result image\n",
    "edited_image_path = save_result_image(output_directory, output_image, seed, output_format)\n",
    "\n",
    "# Display the images\n",
    "print(\"Original image:\")\n",
    "display(Image.open(image))\n",
    "print(\"Result image:\")\n",
    "display(Image.open(edited_image_path))\n"
   ]
  }
 ],
 "metadata": {
  "kernelspec": {
   "display_name": "stability-inpaint",
   "language": "python",
   "name": "python3"
  },
  "language_info": {
   "codemirror_mode": {
    "name": "ipython",
    "version": 3
   },
   "file_extension": ".py",
   "mimetype": "text/x-python",
   "name": "python",
   "nbconvert_exporter": "python",
   "pygments_lexer": "ipython3",
   "version": "3.10.12"
  }
 },
 "nbformat": 4,
 "nbformat_minor": 2
}
