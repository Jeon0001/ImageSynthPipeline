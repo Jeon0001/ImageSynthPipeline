{
 "cells": [
  {
   "cell_type": "markdown",
   "metadata": {},
   "source": [
    "0. Import Packages\n",
    "##### Note Use Correct Kernel"
   ]
  },
  {
   "cell_type": "code",
   "execution_count": 1,
   "metadata": {},
   "outputs": [
    {
     "name": "stderr",
     "output_type": "stream",
     "text": [
      "c:\\Users\\Admin\\anaconda3\\envs\\stability-inpaint\\lib\\site-packages\\tqdm\\auto.py:21: TqdmWarning: IProgress not found. Please update jupyter and ipywidgets. See https://ipywidgets.readthedocs.io/en/stable/user_install.html\n",
      "  from .autonotebook import tqdm as notebook_tqdm\n"
     ]
    }
   ],
   "source": [
    "import os\n",
    "from PIL import Image\n",
    "import torch\n",
    "from diffusers import StableDiffusionInpaintPipeline"
   ]
  },
  {
   "cell_type": "markdown",
   "metadata": {},
   "source": [
    "1. Folder Designations"
   ]
  },
  {
   "cell_type": "code",
   "execution_count": null,
   "metadata": {},
   "outputs": [],
   "source": [
    "# Folder Setup\n",
    "input_folder = \"folder_path_for_input_images\"\n",
    "mask_folder = \"folder_path_for_mask_images\"\n",
    "output_folder = \"folder_path_for_result_images\""
   ]
  },
  {
   "cell_type": "markdown",
   "metadata": {},
   "source": [
    "2. Mask Image Folder Generation\n",
    "##### Note: White = Area to Inpaint"
   ]
  },
  {
   "cell_type": "code",
   "execution_count": null,
   "metadata": {},
   "outputs": [],
   "source": [
    "# Input images should be 3-channel images with resolution 512x512\n",
    "# Save masks to \"mask_folder\" with names corresponding to the input images + \"_mask\"\n",
    "# Masks should be 1-channel images with the same size as the input images (greyscale, resolution 512x512)"
   ]
  },
  {
   "cell_type": "markdown",
   "metadata": {},
   "source": [
    "4. Creation of Synthesized Images\n",
    "##### Suggesting: Creation of autoprompter, perhaps another model(?)"
   ]
  },
  {
   "cell_type": "code",
   "execution_count": 2,
   "metadata": {},
   "outputs": [
    {
     "name": "stderr",
     "output_type": "stream",
     "text": [
      "Loading pipeline components...:  33%|███▎      | 2/6 [00:01<00:03,  1.21it/s]c:\\Users\\Admin\\anaconda3\\envs\\stability-inpaint\\lib\\site-packages\\transformers\\tokenization_utils_base.py:1601: FutureWarning: `clean_up_tokenization_spaces` was not set. It will be set to `True` by default. This behavior will be depracted in transformers v4.45, and will be then set to `False` by default. For more details check this issue: https://github.com/huggingface/transformers/issues/31884\n",
      "  warnings.warn(\n",
      "Loading pipeline components...: 100%|██████████| 6/6 [00:06<00:00,  1.02s/it]\n"
     ]
    },
    {
     "ename": "NameError",
     "evalue": "name 'output_folder' is not defined",
     "output_type": "error",
     "traceback": [
      "\u001b[1;31m---------------------------------------------------------------------------\u001b[0m",
      "\u001b[1;31mNameError\u001b[0m                                 Traceback (most recent call last)",
      "Cell \u001b[1;32mIn[2], line 14\u001b[0m\n\u001b[0;32m     10\u001b[0m prompt \u001b[38;5;241m=\u001b[39m \u001b[38;5;124m\"\u001b[39m\u001b[38;5;124mTraditional fisherman fishing on a large lake.\u001b[39m\u001b[38;5;124m\"\u001b[39m\n\u001b[0;32m     11\u001b[0m \u001b[38;5;66;03m#########\u001b[39;00m\n\u001b[0;32m     12\u001b[0m \n\u001b[0;32m     13\u001b[0m \u001b[38;5;66;03m# Create the output folder if it doesn't exist\u001b[39;00m\n\u001b[1;32m---> 14\u001b[0m os\u001b[38;5;241m.\u001b[39mmakedirs(\u001b[43moutput_folder\u001b[49m, exist_ok\u001b[38;5;241m=\u001b[39m\u001b[38;5;28;01mTrue\u001b[39;00m)\n\u001b[0;32m     16\u001b[0m \u001b[38;5;66;03m# Iterate through the images in the input folder\u001b[39;00m\n\u001b[0;32m     17\u001b[0m \u001b[38;5;28;01mfor\u001b[39;00m image_filename \u001b[38;5;129;01min\u001b[39;00m os\u001b[38;5;241m.\u001b[39mlistdir(input_folder):\n",
      "\u001b[1;31mNameError\u001b[0m: name 'output_folder' is not defined"
     ]
    }
   ],
   "source": [
    "# Load the model\n",
    "pipe = StableDiffusionInpaintPipeline.from_pretrained(\n",
    "    \"stabilityai/stable-diffusion-2-inpainting\",\n",
    "    torch_dtype = torch.float16,\n",
    ")\n",
    "pipe.to(\"cuda\")\n",
    "\n",
    "#########\n",
    "# Set Prompt Here\n",
    "prompt = \"Traditional fisherman fishing on a large lake.\"\n",
    "#########\n",
    "\n",
    "# Create the output folder if it doesn't exist\n",
    "os.makedirs(output_folder, exist_ok=True)\n",
    "\n",
    "# Iterate through the images in the input folder\n",
    "for image_filename in os.listdir(input_folder):\n",
    "    if image_filename.lower().endswith(('.png', '.jpg', '.jpeg')):\n",
    "        # Construct full file paths\n",
    "        image_path = os.path.join(input_folder, image_filename)\n",
    "        mask_filename = os.path.splitext(image_filename)[0] + \"_mask.png\"\n",
    "        mask_path = os.path.join(mask_folder, mask_filename)\n",
    "        \n",
    "        # Check if the corresponding mask exists\n",
    "        if os.path.exists(mask_path):\n",
    "            # Open the images\n",
    "            image = Image.open(image_path).convert(\"RGB\")\n",
    "            mask_image = Image.open(mask_path).convert(\"L\")\n",
    "\n",
    "            # Ensure the mask size matches the image size\n",
    "            if image.size != mask_image.size:\n",
    "                print(f\"Resizing mask for {image_filename} to match the image size.\")\n",
    "                mask_image = mask_image.resize(image.size)\n",
    "\n",
    "            # Perform inpainting\n",
    "            inpainted_image = pipe(prompt=prompt, image=image, mask_image=mask_image).images[0]\n",
    "\n",
    "            # Save the inpainted image\n",
    "            output_filename = os.path.splitext(image_filename)[0] + \"_inpainted.png\"\n",
    "            output_path = os.path.join(output_folder, output_filename)\n",
    "            inpainted_image.save(output_path)\n",
    "            print(f\"Saved inpainted image to {output_path}\")\n",
    "        else:\n",
    "            print(f\"Mask for {image_filename} not found. Skipping.\")\n"
   ]
  }
 ],
 "metadata": {
  "kernelspec": {
   "display_name": "stability-inpaint",
   "language": "python",
   "name": "python3"
  },
  "language_info": {
   "codemirror_mode": {
    "name": "ipython",
    "version": 3
   },
   "file_extension": ".py",
   "mimetype": "text/x-python",
   "name": "python",
   "nbconvert_exporter": "python",
   "pygments_lexer": "ipython3",
   "version": "3.10.12"
  }
 },
 "nbformat": 4,
 "nbformat_minor": 2
}
