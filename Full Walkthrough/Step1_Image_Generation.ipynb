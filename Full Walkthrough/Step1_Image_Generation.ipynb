{
 "cells": [
  {
   "cell_type": "markdown",
   "metadata": {},
   "source": [
    "### **Step 0. Collect sample images (optional: bing web scraper)**"
   ]
  },
  {
   "cell_type": "markdown",
   "metadata": {},
   "source": [
    "1. **First Pip Install Bing Image Scraper**\n",
    "```pip install git+https://github.com/ostrolucky/Bulk-Bing-Image-downloader```\n",
    "\n",
    "2. **Then write in terminal**\n",
    "```bbid \"Insert Search Query\" -o \"Insert Output Directory\" --limit number_to_scrape```\n",
    "\n",
    "3. **(or if this does not work)**\n",
    "```bbid.py \"Insert Search Query\" -o \"Insert Output Directory\" --limit number_to_scrape```\n",
    "\n",
    "**e.g.**\n",
    "```bbid.py \"People eating Korean Food\" -o \"D:/images/Korean_Food/original_images/\" --limit 50```\n",
    "\n",
    "##### Refer to README.md for how to organize image directory + Adjust/Filter images as required"
   ]
  },
  {
   "cell_type": "code",
   "execution_count": null,
   "metadata": {},
   "outputs": [],
   "source": [
    "import os\n",
    "\n",
    "def rename_files_in_directory(directory_path):\n",
    "    try:\n",
    "        # List all files in the directory\n",
    "        files = os.listdir(directory_path)\n",
    "        \n",
    "        # Sort files to ensure consistent numbering\n",
    "        files.sort()\n",
    "        \n",
    "        for index, file in enumerate(files):\n",
    "            old_file_path = os.path.join(directory_path, file)\n",
    "            \n",
    "            # Skip directories\n",
    "            if os.path.isdir(old_file_path):\n",
    "                continue\n",
    "            \n",
    "            # Define the new file name\n",
    "            file_extension = os.path.splitext(file)[1]  # Keep the original file extension\n",
    "            # Define file naming scheme below (\"Culture_Category_\")\n",
    "            new_file_name = f\"Myanmar_food_{index + 1}{file_extension}\"\n",
    "            new_file_path = os.path.join(directory_path, new_file_name)\n",
    "            \n",
    "            # Rename the file\n",
    "            os.rename(old_file_path, new_file_path)\n",
    "        \n",
    "        print(f\"All files in '{directory_path}' have been renamed successfully!\")\n",
    "    \n",
    "    except Exception as e:\n",
    "        print(f\"An error occurred: {e}\")\n",
    "\n",
    "# Example usage\n",
    "# Directory Path inserted below\n",
    "directory_path = 'insert image directory path here'\n",
    "rename_files_in_directory(directory_path)\n"
   ]
  },
  {
   "cell_type": "markdown",
   "metadata": {},
   "source": [
    "### **Step 1. Create masks for collected images**\n",
    "- Recommend running in google colab\n",
    "- https://colab.research.google.com/drive/1Hl26ynqHYp011uuOln9cqYH_LbQauOYt?usp=sharing\n",
    "- Note: Images must be zipped and downloaded from colab, naming scheme will be as follows: image_name_mask.png"
   ]
  },
  {
   "cell_type": "markdown",
   "metadata": {},
   "source": [
    "### **Step 3. Synthesize images to create dataset (Current races: Black, Indian, White, Asian)**\n",
    "- Note inpainting model requires API credits from: https://platform.stability.ai/account/credits "
   ]
  },
  {
   "cell_type": "code",
   "execution_count": null,
   "metadata": {},
   "outputs": [],
   "source": [
    "from io import BytesIO\n",
    "import os\n",
    "from PIL import Image\n",
    "import requests\n",
    "import time\n",
    "from IPython.display import display"
   ]
  },
  {
   "cell_type": "code",
   "execution_count": null,
   "metadata": {},
   "outputs": [],
   "source": [
    "import getpass\n",
    "# STABILITY_KEY = getpass.getpass('Enter your API Key: ')\n",
    "STABILITY_KEY = os.environ['STABILITY_KEY']"
   ]
  },
  {
   "cell_type": "markdown",
   "metadata": {},
   "source": [
    "##### Helper Functions"
   ]
  },
  {
   "cell_type": "code",
   "execution_count": null,
   "metadata": {},
   "outputs": [],
   "source": [
    "def send_generation_request(host, params):\n",
    "    headers = {\n",
    "        \"Accept\": \"image/*\",\n",
    "        \"Authorization\": f\"Bearer {STABILITY_KEY}\"\n",
    "    }\n",
    "\n",
    "    # Encode parameters\n",
    "    files = {}\n",
    "    image = params.pop(\"image\", None)\n",
    "    mask = params.pop(\"mask\", None)\n",
    "    if image:\n",
    "        files[\"image\"] = open(image, 'rb')\n",
    "    if mask:\n",
    "        files[\"mask\"] = open(mask, 'rb')\n",
    "    if not files:\n",
    "        files[\"none\"] = ''\n",
    "\n",
    "    # Send request\n",
    "    print(f\"Sending REST request to {host}...\")\n",
    "    response = requests.post(\n",
    "        host,\n",
    "        headers=headers,\n",
    "        files=files,\n",
    "        data=params\n",
    "    )\n",
    "    if not response.ok:\n",
    "        raise Exception(f\"HTTP {response.status_code}: {response.text}\")\n",
    "\n",
    "    return response\n",
    "\n",
    "def send_async_generation_request(host, params):\n",
    "    headers = {\n",
    "        \"Accept\": \"application/json\",\n",
    "        \"Authorization\": f\"Bearer {STABILITY_KEY}\"\n",
    "    }\n",
    "\n",
    "    # Encode parameters\n",
    "    files = {}\n",
    "    if \"image\" in params:\n",
    "        image = params.pop(\"image\")\n",
    "        files = {\"image\": open(image, 'rb')}\n",
    "\n",
    "    # Send request\n",
    "    print(f\"Sending REST request to {host}...\")\n",
    "    response = requests.post(\n",
    "        host,\n",
    "        headers=headers,\n",
    "        files=files,\n",
    "        data=params\n",
    "    )\n",
    "    if not response.ok:\n",
    "        raise Exception(f\"HTTP {response.status_code}: {response.text}\")\n",
    "\n",
    "    # Process async response\n",
    "    response_dict = response.json()\n",
    "    generation_id = response_dict.get(\"id\")\n",
    "    if not generation_id:\n",
    "        raise Exception(\"Expected 'id' in response\")\n",
    "\n",
    "    # Loop until result or timeout\n",
    "    timeout = int(os.getenv(\"WORKER_TIMEOUT\", 500))\n",
    "    start = time.time()\n",
    "    status_code = 202\n",
    "    while status_code == 202:\n",
    "        response = requests.get(\n",
    "            f\"{host}/result/{generation_id}\",\n",
    "            headers={\n",
    "                **headers,\n",
    "                \"Accept\": \"image/*\"\n",
    "            },\n",
    "        )\n",
    "\n",
    "        if not response.ok:\n",
    "            raise Exception(f\"HTTP {response.status_code}: {response.text}\")\n",
    "        status_code = response.status_code\n",
    "        time.sleep(10)\n",
    "        if time.time() - start > timeout:\n",
    "            raise Exception(f\"Timeout after {timeout} seconds\")\n",
    "\n",
    "    return response\n"
   ]
  },
  {
   "cell_type": "markdown",
   "metadata": {},
   "source": [
    "#### Path and prompt specification\n",
    "-  Ensure mask and original image file names are coinciding"
   ]
  },
  {
   "cell_type": "code",
   "execution_count": null,
   "metadata": {},
   "outputs": [],
   "source": [
    "# Insert Paths + Prompt here\n",
    "input_folder = \"../images/original_images/food/Myanmar/\"\n",
    "mask_folder = \"../images/mask_images/food/Myanmar/\"\n",
    "output_folder = \"../images/synthesized_images/food/Myanmar/Asian/\"\n",
    "input_folder = \"D:\\Data Downloads\\Bing Image Scraped Results\\Korean_Clothes\"\n",
    "mask_folder = \"D:\\Data Downloads\\Bing Image Scraped Results\\Korean_Clothes_Mask\"\n",
    "output_folder = \"D:\\Data Downloads\\Bing Image Scraped Results\\Korean_Clothes_Synthesized\\Asian\"\n",
    "# Prompt below\n",
    "prompt = \"Asian Person Wearing the Clothes\"\n",
    "negative_prompt = \"\"\n",
    "seed = 0\n",
    "# Leave below alone\n",
    "output_format = \"png\""
   ]
  },
  {
   "cell_type": "markdown",
   "metadata": {},
   "source": [
    "##### Batch Inpainting code"
   ]
  },
  {
   "cell_type": "code",
   "execution_count": null,
   "metadata": {},
   "outputs": [],
   "source": [
    "def process_images(input_folder, mask_folder, output_folder, prompt, negative_prompt=\"\", seed=0, output_format=\"png\"):\n",
    "    # Maximum allowed dimensions\n",
    "    MAX_PIXELS = 9437184  # 3072 x 3072 pixels\n",
    "    \n",
    "    # Ensure output folder exists\n",
    "    os.makedirs(output_folder, exist_ok=True)\n",
    "    \n",
    "    # Iterate through all files in the input folder\n",
    "    for image_file in os.listdir(input_folder):\n",
    "        # Construct the paths for the input image and the corresponding mask\n",
    "        image_path = os.path.join(input_folder, image_file)\n",
    "        mask_path = os.path.join(mask_folder, os.path.splitext(image_file)[0] + \"_mask.png\")  # Assuming mask has same name with \"_mask\" suffix\n",
    "        \n",
    "        # Skip if mask doesn't exist\n",
    "        if not os.path.exists(mask_path):\n",
    "            print(f\"Mask not found for {image_file}, skipping...\")\n",
    "            continue\n",
    "        \n",
    "        # Open the image to check dimensions\n",
    "        with Image.open(image_path) as img:\n",
    "            width, height = img.size\n",
    "            if width * height > MAX_PIXELS:\n",
    "                scale_factor = (MAX_PIXELS / (width * height)) ** 0.5\n",
    "                new_width = int(width * scale_factor)\n",
    "                new_height = int(height * scale_factor)\n",
    "                img = img.resize((new_width, new_height), Image.Resampling.LANCZOS)\n",
    "                \n",
    "                # Save the resized image temporarily\n",
    "                resized_image_path = os.path.join(output_folder, f\"resized_{image_file}\")\n",
    "                img.save(resized_image_path)\n",
    "                print(f\"Resized {image_file} to {new_width}x{new_height}\")\n",
    "            else:\n",
    "                resized_image_path = image_path  # No resizing needed\n",
    "\n",
    "        # Parameters for the API\n",
    "        params = {\n",
    "            \"image\": resized_image_path,\n",
    "            \"mask\": mask_path,\n",
    "            \"negative_prompt\": negative_prompt,\n",
    "            \"seed\": seed,\n",
    "            \"mode\": \"mask\",\n",
    "            \"output_format\": output_format,\n",
    "            \"prompt\": prompt\n",
    "        }\n",
    "        \n",
    "        # Call the API\n",
    "        response = send_generation_request(\"https://api.stability.ai/v2beta/stable-image/edit/inpaint\", params)\n",
    "        \n",
    "        # Decode response\n",
    "        output_image = response.content\n",
    "        finish_reason = response.headers.get(\"finish-reason\")\n",
    "        seed = response.headers.get(\"seed\")\n",
    "        \n",
    "        # Check for NSFW classification\n",
    "        if finish_reason == 'CONTENT_FILTERED':\n",
    "            print(f\"Generation for {image_file} failed due to NSFW classification.\")\n",
    "            continue\n",
    "        \n",
    "        # Save the result image\n",
    "        filename, _ = os.path.splitext(image_file)\n",
    "        edited_filename = f\"edited_{filename}_{seed}.{output_format}\"\n",
    "        edited_path = os.path.join(output_folder, edited_filename)\n",
    "        \n",
    "        with open(edited_path, \"wb\") as f:\n",
    "            f.write(output_image)\n",
    "        \n",
    "        print(f\"Saved image to {edited_path}\")\n",
    "\n",
    "# Process images\n",
    "process_images(input_folder, mask_folder, output_folder, prompt, negative_prompt, seed, output_format)\n"
   ]
  },
  {
   "cell_type": "markdown",
   "metadata": {},
   "source": [
    "### **Step 4. GPT Evaluation of Images**\n",
    "- GPT API Credits Required"
   ]
  },
  {
   "cell_type": "markdown",
   "metadata": {},
   "source": [
    "### **Step 5. Lavis (Open-source) model evaluation**\n",
    "- "
   ]
  }
 ],
 "metadata": {
  "kernelspec": {
   "display_name": "stability-inpaint",
   "language": "python",
   "name": "python3"
  },
  "language_info": {
   "name": "python",
   "version": "3.10.12"
  }
 },
 "nbformat": 4,
 "nbformat_minor": 2
}
